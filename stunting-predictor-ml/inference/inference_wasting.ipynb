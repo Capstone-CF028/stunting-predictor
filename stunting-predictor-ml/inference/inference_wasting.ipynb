{
 "cells": [
  {
   "cell_type": "code",
   "execution_count": 1,
   "metadata": {},
   "outputs": [],
   "source": [
    "import numpy as np"
   ]
  },
  {
   "cell_type": "code",
   "execution_count": 2,
   "metadata": {},
   "outputs": [],
   "source": [
    "from tensorflow.keras.models import load_model\n",
    "from sklearn.metrics import classification_report, accuracy_score\n",
    "\n",
    "X_test_wt = np.load('../data/data_uji/X_test_wt.npy')\n",
    "y_test_wt = np.load('../data/data_uji/y_test_wt.npy')"
   ]
  },
  {
   "cell_type": "code",
   "execution_count": 3,
   "metadata": {},
   "outputs": [
    {
     "name": "stdout",
     "output_type": "stream",
     "text": [
      "\u001b[1m972/972\u001b[0m \u001b[32m━━━━━━━━━━━━━━━━━━━━\u001b[0m\u001b[37m\u001b[0m \u001b[1m2s\u001b[0m 1ms/step\n",
      "                  precision    recall  f1-score   support\n",
      "\n",
      "    Berat Normal       0.97      0.96      0.96      7769\n",
      "Risiko Kegemukan       1.00      0.97      0.98      7770\n",
      "    Sangat Kurus       0.99      0.96      0.98      7769\n",
      "           Kurus       0.92      0.99      0.96      7769\n",
      "\n",
      "        accuracy                           0.97     31077\n",
      "       macro avg       0.97      0.97      0.97     31077\n",
      "    weighted avg       0.97      0.97      0.97     31077\n",
      "\n"
     ]
    }
   ],
   "source": [
    "model = load_model('../Model_Wasting/model_wasting.keras') \n",
    "y_pred_probs = model.predict(X_test_wt)\n",
    "y_pred_wt = np.argmax(y_pred_probs, axis=1)\n",
    "y_true_wt = np.argmax(y_test_wt, axis=1)\n",
    "class_name = ['Berat Normal', 'Risiko Kegemukan', 'Sangat Kurus', 'Kurus']\n",
    "print(classification_report(y_true_wt, y_pred_wt, target_names=class_name))\n"
   ]
  },
  {
   "cell_type": "code",
   "execution_count": 4,
   "metadata": {},
   "outputs": [
    {
     "name": "stdout",
     "output_type": "stream",
     "text": [
      "Akurasi: 0.9708\n"
     ]
    }
   ],
   "source": [
    "accuracy = accuracy_score(y_true_wt, y_pred_wt)\n",
    "print(f\"Akurasi: {accuracy:.4f}\")"
   ]
  }
 ],
 "metadata": {
  "kernelspec": {
   "display_name": "Python 3",
   "language": "python",
   "name": "python3"
  },
  "language_info": {
   "codemirror_mode": {
    "name": "ipython",
    "version": 3
   },
   "file_extension": ".py",
   "mimetype": "text/x-python",
   "name": "python",
   "nbconvert_exporter": "python",
   "pygments_lexer": "ipython3",
   "version": "3.12.4"
  }
 },
 "nbformat": 4,
 "nbformat_minor": 2
}

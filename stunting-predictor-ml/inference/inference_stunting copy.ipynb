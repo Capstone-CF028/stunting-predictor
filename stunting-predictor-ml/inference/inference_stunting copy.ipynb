{
 "cells": [
  {
   "cell_type": "code",
   "execution_count": 1,
   "metadata": {},
   "outputs": [],
   "source": [
    "import numpy as np"
   ]
  },
  {
   "cell_type": "code",
   "execution_count": 2,
   "metadata": {},
   "outputs": [],
   "source": [
    "X_test_st = np.load('../data/data_uji/X_test_st.npy')\n",
    "y_test_st = np.load('../data/data_uji/y_test_st.npy')"
   ]
  },
  {
   "cell_type": "code",
   "execution_count": 3,
   "metadata": {},
   "outputs": [],
   "source": [
    "from tensorflow.keras.models import load_model\n",
    "from sklearn.metrics import classification_report, accuracy_score\n",
    "\n",
    "X_test_st = np.load('../data/data_uji/X_test_st.npy')\n",
    "y_test_st = np.load('../data/data_uji/y_test_st.npy')"
   ]
  },
  {
   "cell_type": "code",
   "execution_count": 4,
   "metadata": {},
   "outputs": [
    {
     "name": "stderr",
     "output_type": "stream",
     "text": [
      "WARNING:absl:Compiled the loaded model, but the compiled metrics have yet to be built. `model.compile_metrics` will be empty until you train or evaluate the model.\n"
     ]
    },
    {
     "name": "stdout",
     "output_type": "stream",
     "text": [
      "\u001b[1m1258/1258\u001b[0m \u001b[32m━━━━━━━━━━━━━━━━━━━━\u001b[0m\u001b[37m\u001b[0m \u001b[1m2s\u001b[0m 2ms/step\n",
      "                 precision    recall  f1-score   support\n",
      "\n",
      "         Normal       1.00      0.97      0.98     13411\n",
      "Sangat Stunting       0.97      0.97      0.97     13411\n",
      "       Stunting       0.97      1.00      0.99     13411\n",
      "\n",
      "       accuracy                           0.98     40233\n",
      "      macro avg       0.98      0.98      0.98     40233\n",
      "   weighted avg       0.98      0.98      0.98     40233\n",
      "\n"
     ]
    }
   ],
   "source": [
    "model = load_model('../Model_Stunting/model_stunting.h5') \n",
    "y_pred_probs = model.predict(X_test_st)\n",
    "y_pred = np.argmax(y_pred_probs, axis=1)\n",
    "y_true = np.argmax(y_test_st, axis=1)\n",
    "class_name = ['Normal', 'Sangat Stunting', 'Stunting', ]\n",
    "print(classification_report(y_true, y_pred, target_names=class_name))\n"
   ]
  },
  {
   "cell_type": "code",
   "execution_count": 5,
   "metadata": {},
   "outputs": [
    {
     "name": "stdout",
     "output_type": "stream",
     "text": [
      "Akurasi: 0.9807\n"
     ]
    }
   ],
   "source": [
    "accuracy = accuracy_score(y_true, y_pred)\n",
    "print(f\"Akurasi: {accuracy:.4f}\")"
   ]
  }
 ],
 "metadata": {
  "kernelspec": {
   "display_name": "Python 3",
   "language": "python",
   "name": "python3"
  },
  "language_info": {
   "codemirror_mode": {
    "name": "ipython",
    "version": 3
   },
   "file_extension": ".py",
   "mimetype": "text/x-python",
   "name": "python",
   "nbconvert_exporter": "python",
   "pygments_lexer": "ipython3",
   "version": "3.12.4"
  }
 },
 "nbformat": 4,
 "nbformat_minor": 2
}

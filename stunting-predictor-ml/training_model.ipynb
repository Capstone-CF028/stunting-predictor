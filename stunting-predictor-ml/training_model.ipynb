{
  "cells": [
    {
      "cell_type": "code",
      "execution_count": 1,
      "metadata": {
        "id": "5r3MkuUt8u5h"
      },
      "outputs": [],
      "source": [
        "import tensorflow as tf\n",
        "from tensorflow.keras.models import Sequential\n",
        "from tensorflow.keras.layers import Dense\n",
        "from sklearn.model_selection import train_test_split\n",
        "from sklearn.preprocessing import StandardScaler, LabelEncoder\n",
        "import pandas as pd\n",
        "import numpy as np"
      ]
    },
    {
      "cell_type": "code",
      "execution_count": 2,
      "metadata": {
        "id": "xYn1rJK-8281"
      },
      "outputs": [
        {
          "name": "stderr",
          "output_type": "stream",
          "text": [
            "<>:1: SyntaxWarning: invalid escape sequence '\\d'\n",
            "<>:1: SyntaxWarning: invalid escape sequence '\\d'\n",
            "C:\\Users\\User\\AppData\\Local\\Temp\\ipykernel_5968\\114227534.py:1: SyntaxWarning: invalid escape sequence '\\d'\n",
            "  df = pd.read_csv('data\\data_stunting_smote.csv')\n"
          ]
        }
      ],
      "source": [
        "df = pd.read_csv('data\\data_stunting_smote.csv')\n"
      ]
    },
    {
      "cell_type": "code",
      "execution_count": 3,
      "metadata": {
        "colab": {
          "base_uri": "https://localhost:8080/",
          "height": 224
        },
        "id": "ubhpSuoD9f6E",
        "outputId": "c14b4346-6450-441a-eb05-ccb18eb3b607"
      },
      "outputs": [
        {
          "data": {
            "text/html": [
              "<div>\n",
              "<style scoped>\n",
              "    .dataframe tbody tr th:only-of-type {\n",
              "        vertical-align: middle;\n",
              "    }\n",
              "\n",
              "    .dataframe tbody tr th {\n",
              "        vertical-align: top;\n",
              "    }\n",
              "\n",
              "    .dataframe thead th {\n",
              "        text-align: right;\n",
              "    }\n",
              "</style>\n",
              "<table border=\"1\" class=\"dataframe\">\n",
              "  <thead>\n",
              "    <tr style=\"text-align: right;\">\n",
              "      <th></th>\n",
              "      <th>Jenis Kelamin</th>\n",
              "      <th>Umur (bulan)</th>\n",
              "      <th>Tinggi Badan (cm)</th>\n",
              "      <th>Berat Badan (kg)</th>\n",
              "      <th>Stunting_Normal</th>\n",
              "      <th>Stunting_Sangat Stunting</th>\n",
              "      <th>Stunting_Stunting</th>\n",
              "      <th>Stunting_Tinggi</th>\n",
              "    </tr>\n",
              "  </thead>\n",
              "  <tbody>\n",
              "    <tr>\n",
              "      <th>0</th>\n",
              "      <td>0.0</td>\n",
              "      <td>0.791667</td>\n",
              "      <td>0.890909</td>\n",
              "      <td>0.759259</td>\n",
              "      <td>False</td>\n",
              "      <td>False</td>\n",
              "      <td>False</td>\n",
              "      <td>True</td>\n",
              "    </tr>\n",
              "    <tr>\n",
              "      <th>1</th>\n",
              "      <td>0.0</td>\n",
              "      <td>0.833333</td>\n",
              "      <td>0.638182</td>\n",
              "      <td>0.462963</td>\n",
              "      <td>False</td>\n",
              "      <td>False</td>\n",
              "      <td>True</td>\n",
              "      <td>False</td>\n",
              "    </tr>\n",
              "    <tr>\n",
              "      <th>2</th>\n",
              "      <td>0.0</td>\n",
              "      <td>0.416667</td>\n",
              "      <td>0.661818</td>\n",
              "      <td>0.574074</td>\n",
              "      <td>True</td>\n",
              "      <td>False</td>\n",
              "      <td>False</td>\n",
              "      <td>False</td>\n",
              "    </tr>\n",
              "    <tr>\n",
              "      <th>3</th>\n",
              "      <td>1.0</td>\n",
              "      <td>0.083333</td>\n",
              "      <td>0.140000</td>\n",
              "      <td>0.450617</td>\n",
              "      <td>False</td>\n",
              "      <td>True</td>\n",
              "      <td>False</td>\n",
              "      <td>False</td>\n",
              "    </tr>\n",
              "    <tr>\n",
              "      <th>4</th>\n",
              "      <td>1.0</td>\n",
              "      <td>0.208333</td>\n",
              "      <td>0.250909</td>\n",
              "      <td>0.611111</td>\n",
              "      <td>False</td>\n",
              "      <td>True</td>\n",
              "      <td>False</td>\n",
              "      <td>False</td>\n",
              "    </tr>\n",
              "  </tbody>\n",
              "</table>\n",
              "</div>"
            ],
            "text/plain": [
              "   Jenis Kelamin  Umur (bulan)  Tinggi Badan (cm)  Berat Badan (kg)  \\\n",
              "0            0.0      0.791667           0.890909          0.759259   \n",
              "1            0.0      0.833333           0.638182          0.462963   \n",
              "2            0.0      0.416667           0.661818          0.574074   \n",
              "3            1.0      0.083333           0.140000          0.450617   \n",
              "4            1.0      0.208333           0.250909          0.611111   \n",
              "\n",
              "   Stunting_Normal  Stunting_Sangat Stunting  Stunting_Stunting  \\\n",
              "0            False                     False              False   \n",
              "1            False                     False               True   \n",
              "2             True                     False              False   \n",
              "3            False                      True              False   \n",
              "4            False                      True              False   \n",
              "\n",
              "   Stunting_Tinggi  \n",
              "0             True  \n",
              "1            False  \n",
              "2            False  \n",
              "3            False  \n",
              "4            False  "
            ]
          },
          "execution_count": 3,
          "metadata": {},
          "output_type": "execute_result"
        }
      ],
      "source": [
        "df.head()"
      ]
    },
    {
      "cell_type": "markdown",
      "metadata": {},
      "source": [
        "#### Splitting Data"
      ]
    },
    {
      "cell_type": "code",
      "execution_count": 4,
      "metadata": {
        "colab": {
          "base_uri": "https://localhost:8080/"
        },
        "id": "qV2C2coP9ool",
        "outputId": "2dd2773b-4652-48ce-ab0f-1d4441992c19"
      },
      "outputs": [
        {
          "name": "stdout",
          "output_type": "stream",
          "text": [
            "Jumlah data latih Stunting: 214576\n",
            "Jumlah data uji Stunting: 53644\n"
          ]
        }
      ],
      "source": [
        "x = df.drop(['Stunting_Normal','Stunting_Stunting','Stunting_Sangat Stunting','Stunting_Tinggi'], axis =1)\n",
        "y = df[['Stunting_Normal','Stunting_Stunting','Stunting_Sangat Stunting','Stunting_Tinggi']]\n",
        "\n",
        "X_train_st, X_test_st, y_train_st, y_test_st = train_test_split(\n",
        "    x, y, test_size=0.2, random_state=42, stratify=y\n",
        ")\n",
        "\n",
        "print (\"Jumlah data latih Stunting:\", len(y_train_st))\n",
        "print (\"Jumlah data uji Stunting:\", len(y_test_st))\n",
        "\n"
      ]
    },
    {
      "cell_type": "code",
      "execution_count": 5,
      "metadata": {},
      "outputs": [],
      "source": [
        "np.save('data/data_uji/X_test_st.npy', X_test_st)\n",
        "np.save('data/data_uji/y_test_st.npy', y_test_st)"
      ]
    },
    {
      "cell_type": "code",
      "execution_count": 6,
      "metadata": {
        "colab": {
          "base_uri": "https://localhost:8080/",
          "height": 616
        },
        "id": "tt6KaTCSBEWK",
        "outputId": "bced6d4c-8f44-470b-8dc4-ff1e1af4de93"
      },
      "outputs": [
        {
          "name": "stderr",
          "output_type": "stream",
          "text": [
            "c:\\Users\\User\\anaconda3\\Lib\\site-packages\\keras\\src\\layers\\core\\dense.py:87: UserWarning: Do not pass an `input_shape`/`input_dim` argument to a layer. When using Sequential models, prefer using an `Input(shape)` object as the first layer in the model instead.\n",
            "  super().__init__(activity_regularizer=activity_regularizer, **kwargs)\n"
          ]
        },
        {
          "data": {
            "text/html": [
              "<pre style=\"white-space:pre;overflow-x:auto;line-height:normal;font-family:Menlo,'DejaVu Sans Mono',consolas,'Courier New',monospace\"><span style=\"font-weight: bold\">Model: \"sequential\"</span>\n",
              "</pre>\n"
            ],
            "text/plain": [
              "\u001b[1mModel: \"sequential\"\u001b[0m\n"
            ]
          },
          "metadata": {},
          "output_type": "display_data"
        },
        {
          "data": {
            "text/html": [
              "<pre style=\"white-space:pre;overflow-x:auto;line-height:normal;font-family:Menlo,'DejaVu Sans Mono',consolas,'Courier New',monospace\">┏━━━━━━━━━━━━━━━━━━━━━━━━━━━━━━━━━┳━━━━━━━━━━━━━━━━━━━━━━━━┳━━━━━━━━━━━━━━━┓\n",
              "┃<span style=\"font-weight: bold\"> Layer (type)                    </span>┃<span style=\"font-weight: bold\"> Output Shape           </span>┃<span style=\"font-weight: bold\">       Param # </span>┃\n",
              "┡━━━━━━━━━━━━━━━━━━━━━━━━━━━━━━━━━╇━━━━━━━━━━━━━━━━━━━━━━━━╇━━━━━━━━━━━━━━━┩\n",
              "│ dense (<span style=\"color: #0087ff; text-decoration-color: #0087ff\">Dense</span>)                   │ (<span style=\"color: #00d7ff; text-decoration-color: #00d7ff\">None</span>, <span style=\"color: #00af00; text-decoration-color: #00af00\">128</span>)            │           <span style=\"color: #00af00; text-decoration-color: #00af00\">640</span> │\n",
              "├─────────────────────────────────┼────────────────────────┼───────────────┤\n",
              "│ dropout (<span style=\"color: #0087ff; text-decoration-color: #0087ff\">Dropout</span>)               │ (<span style=\"color: #00d7ff; text-decoration-color: #00d7ff\">None</span>, <span style=\"color: #00af00; text-decoration-color: #00af00\">128</span>)            │             <span style=\"color: #00af00; text-decoration-color: #00af00\">0</span> │\n",
              "├─────────────────────────────────┼────────────────────────┼───────────────┤\n",
              "│ dense_1 (<span style=\"color: #0087ff; text-decoration-color: #0087ff\">Dense</span>)                 │ (<span style=\"color: #00d7ff; text-decoration-color: #00d7ff\">None</span>, <span style=\"color: #00af00; text-decoration-color: #00af00\">64</span>)             │         <span style=\"color: #00af00; text-decoration-color: #00af00\">8,256</span> │\n",
              "├─────────────────────────────────┼────────────────────────┼───────────────┤\n",
              "│ dropout_1 (<span style=\"color: #0087ff; text-decoration-color: #0087ff\">Dropout</span>)             │ (<span style=\"color: #00d7ff; text-decoration-color: #00d7ff\">None</span>, <span style=\"color: #00af00; text-decoration-color: #00af00\">64</span>)             │             <span style=\"color: #00af00; text-decoration-color: #00af00\">0</span> │\n",
              "├─────────────────────────────────┼────────────────────────┼───────────────┤\n",
              "│ dense_2 (<span style=\"color: #0087ff; text-decoration-color: #0087ff\">Dense</span>)                 │ (<span style=\"color: #00d7ff; text-decoration-color: #00d7ff\">None</span>, <span style=\"color: #00af00; text-decoration-color: #00af00\">4</span>)              │           <span style=\"color: #00af00; text-decoration-color: #00af00\">260</span> │\n",
              "└─────────────────────────────────┴────────────────────────┴───────────────┘\n",
              "</pre>\n"
            ],
            "text/plain": [
              "┏━━━━━━━━━━━━━━━━━━━━━━━━━━━━━━━━━┳━━━━━━━━━━━━━━━━━━━━━━━━┳━━━━━━━━━━━━━━━┓\n",
              "┃\u001b[1m \u001b[0m\u001b[1mLayer (type)                   \u001b[0m\u001b[1m \u001b[0m┃\u001b[1m \u001b[0m\u001b[1mOutput Shape          \u001b[0m\u001b[1m \u001b[0m┃\u001b[1m \u001b[0m\u001b[1m      Param #\u001b[0m\u001b[1m \u001b[0m┃\n",
              "┡━━━━━━━━━━━━━━━━━━━━━━━━━━━━━━━━━╇━━━━━━━━━━━━━━━━━━━━━━━━╇━━━━━━━━━━━━━━━┩\n",
              "│ dense (\u001b[38;5;33mDense\u001b[0m)                   │ (\u001b[38;5;45mNone\u001b[0m, \u001b[38;5;34m128\u001b[0m)            │           \u001b[38;5;34m640\u001b[0m │\n",
              "├─────────────────────────────────┼────────────────────────┼───────────────┤\n",
              "│ dropout (\u001b[38;5;33mDropout\u001b[0m)               │ (\u001b[38;5;45mNone\u001b[0m, \u001b[38;5;34m128\u001b[0m)            │             \u001b[38;5;34m0\u001b[0m │\n",
              "├─────────────────────────────────┼────────────────────────┼───────────────┤\n",
              "│ dense_1 (\u001b[38;5;33mDense\u001b[0m)                 │ (\u001b[38;5;45mNone\u001b[0m, \u001b[38;5;34m64\u001b[0m)             │         \u001b[38;5;34m8,256\u001b[0m │\n",
              "├─────────────────────────────────┼────────────────────────┼───────────────┤\n",
              "│ dropout_1 (\u001b[38;5;33mDropout\u001b[0m)             │ (\u001b[38;5;45mNone\u001b[0m, \u001b[38;5;34m64\u001b[0m)             │             \u001b[38;5;34m0\u001b[0m │\n",
              "├─────────────────────────────────┼────────────────────────┼───────────────┤\n",
              "│ dense_2 (\u001b[38;5;33mDense\u001b[0m)                 │ (\u001b[38;5;45mNone\u001b[0m, \u001b[38;5;34m4\u001b[0m)              │           \u001b[38;5;34m260\u001b[0m │\n",
              "└─────────────────────────────────┴────────────────────────┴───────────────┘\n"
            ]
          },
          "metadata": {},
          "output_type": "display_data"
        },
        {
          "data": {
            "text/html": [
              "<pre style=\"white-space:pre;overflow-x:auto;line-height:normal;font-family:Menlo,'DejaVu Sans Mono',consolas,'Courier New',monospace\"><span style=\"font-weight: bold\"> Total params: </span><span style=\"color: #00af00; text-decoration-color: #00af00\">9,156</span> (35.77 KB)\n",
              "</pre>\n"
            ],
            "text/plain": [
              "\u001b[1m Total params: \u001b[0m\u001b[38;5;34m9,156\u001b[0m (35.77 KB)\n"
            ]
          },
          "metadata": {},
          "output_type": "display_data"
        },
        {
          "data": {
            "text/html": [
              "<pre style=\"white-space:pre;overflow-x:auto;line-height:normal;font-family:Menlo,'DejaVu Sans Mono',consolas,'Courier New',monospace\"><span style=\"font-weight: bold\"> Trainable params: </span><span style=\"color: #00af00; text-decoration-color: #00af00\">9,156</span> (35.77 KB)\n",
              "</pre>\n"
            ],
            "text/plain": [
              "\u001b[1m Trainable params: \u001b[0m\u001b[38;5;34m9,156\u001b[0m (35.77 KB)\n"
            ]
          },
          "metadata": {},
          "output_type": "display_data"
        },
        {
          "data": {
            "text/html": [
              "<pre style=\"white-space:pre;overflow-x:auto;line-height:normal;font-family:Menlo,'DejaVu Sans Mono',consolas,'Courier New',monospace\"><span style=\"font-weight: bold\"> Non-trainable params: </span><span style=\"color: #00af00; text-decoration-color: #00af00\">0</span> (0.00 B)\n",
              "</pre>\n"
            ],
            "text/plain": [
              "\u001b[1m Non-trainable params: \u001b[0m\u001b[38;5;34m0\u001b[0m (0.00 B)\n"
            ]
          },
          "metadata": {},
          "output_type": "display_data"
        }
      ],
      "source": [
        "from tensorflow.keras.models import Sequential\n",
        "from tensorflow.keras.layers import Dense, Dropout\n",
        "from tensorflow.keras.optimizers import Adam\n",
        "\n",
        "model_stunting = Sequential([\n",
        "    Dense(128, activation='relu', input_shape=(X_train_st.shape[1],)),\n",
        "    Dropout(0.3),\n",
        "    Dense(64, activation='relu'),\n",
        "    Dropout(0.3),\n",
        "    Dense(4, activation='softmax')  # 3 output neuron untuk 3 kelas\n",
        "])\n",
        "\n",
        "model_stunting.compile(\n",
        "    optimizer=Adam(learning_rate=0.001),\n",
        "    loss='categorical_crossentropy',  # loss untuk multi-class one-hot label\n",
        "    metrics=['accuracy']\n",
        ")\n",
        "\n",
        "model_stunting.summary()"
      ]
    },
    {
      "cell_type": "code",
      "execution_count": 7,
      "metadata": {
        "colab": {
          "base_uri": "https://localhost:8080/"
        },
        "id": "wHCe-PaABYub",
        "outputId": "c842eeb4-e9e4-42db-9eb0-31c19f748bf7"
      },
      "outputs": [
        {
          "name": "stdout",
          "output_type": "stream",
          "text": [
            "Epoch 1/50\n",
            "\u001b[1m5365/5365\u001b[0m \u001b[32m━━━━━━━━━━━━━━━━━━━━\u001b[0m\u001b[37m\u001b[0m \u001b[1m130s\u001b[0m 23ms/step - accuracy: 0.7072 - loss: 0.6592 - val_accuracy: 0.9492 - val_loss: 0.1880\n",
            "Epoch 2/50\n",
            "\u001b[1m5365/5365\u001b[0m \u001b[32m━━━━━━━━━━━━━━━━━━━━\u001b[0m\u001b[37m\u001b[0m \u001b[1m154s\u001b[0m 25ms/step - accuracy: 0.9014 - loss: 0.2559 - val_accuracy: 0.9292 - val_loss: 0.1706\n",
            "Epoch 3/50\n",
            "\u001b[1m5365/5365\u001b[0m \u001b[32m━━━━━━━━━━━━━━━━━━━━\u001b[0m\u001b[37m\u001b[0m \u001b[1m138s\u001b[0m 24ms/step - accuracy: 0.9209 - loss: 0.2090 - val_accuracy: 0.9316 - val_loss: 0.1725\n",
            "Epoch 4/50\n",
            "\u001b[1m5365/5365\u001b[0m \u001b[32m━━━━━━━━━━━━━━━━━━━━\u001b[0m\u001b[37m\u001b[0m \u001b[1m147s\u001b[0m 25ms/step - accuracy: 0.9266 - loss: 0.1902 - val_accuracy: 0.9474 - val_loss: 0.1303\n",
            "Epoch 5/50\n",
            "\u001b[1m5365/5365\u001b[0m \u001b[32m━━━━━━━━━━━━━━━━━━━━\u001b[0m\u001b[37m\u001b[0m \u001b[1m141s\u001b[0m 25ms/step - accuracy: 0.9333 - loss: 0.1773 - val_accuracy: 0.9555 - val_loss: 0.1144\n",
            "Epoch 6/50\n",
            "\u001b[1m5365/5365\u001b[0m \u001b[32m━━━━━━━━━━━━━━━━━━━━\u001b[0m\u001b[37m\u001b[0m \u001b[1m145s\u001b[0m 25ms/step - accuracy: 0.9352 - loss: 0.1735 - val_accuracy: 0.9680 - val_loss: 0.1018\n",
            "Epoch 7/50\n",
            "\u001b[1m5365/5365\u001b[0m \u001b[32m━━━━━━━━━━━━━━━━━━━━\u001b[0m\u001b[37m\u001b[0m \u001b[1m151s\u001b[0m 27ms/step - accuracy: 0.9371 - loss: 0.1673 - val_accuracy: 0.9678 - val_loss: 0.0950\n",
            "Epoch 8/50\n",
            "\u001b[1m5365/5365\u001b[0m \u001b[32m━━━━━━━━━━━━━━━━━━━━\u001b[0m\u001b[37m\u001b[0m \u001b[1m219s\u001b[0m 30ms/step - accuracy: 0.9391 - loss: 0.1621 - val_accuracy: 0.9660 - val_loss: 0.1001\n",
            "Epoch 9/50\n",
            "\u001b[1m5365/5365\u001b[0m \u001b[32m━━━━━━━━━━━━━━━━━━━━\u001b[0m\u001b[37m\u001b[0m \u001b[1m182s\u001b[0m 26ms/step - accuracy: 0.9373 - loss: 0.1658 - val_accuracy: 0.9623 - val_loss: 0.0962\n",
            "Epoch 10/50\n",
            "\u001b[1m5365/5365\u001b[0m \u001b[32m━━━━━━━━━━━━━━━━━━━━\u001b[0m\u001b[37m\u001b[0m \u001b[1m152s\u001b[0m 28ms/step - accuracy: 0.9393 - loss: 0.1615 - val_accuracy: 0.9628 - val_loss: 0.0961\n",
            "Epoch 11/50\n",
            "\u001b[1m5365/5365\u001b[0m \u001b[32m━━━━━━━━━━━━━━━━━━━━\u001b[0m\u001b[37m\u001b[0m \u001b[1m203s\u001b[0m 28ms/step - accuracy: 0.9414 - loss: 0.1572 - val_accuracy: 0.9706 - val_loss: 0.1069\n",
            "Epoch 12/50\n",
            "\u001b[1m5365/5365\u001b[0m \u001b[32m━━━━━━━━━━━━━━━━━━━━\u001b[0m\u001b[37m\u001b[0m \u001b[1m200s\u001b[0m 27ms/step - accuracy: 0.9401 - loss: 0.1583 - val_accuracy: 0.9622 - val_loss: 0.0990\n",
            "Epoch 13/50\n",
            "\u001b[1m5365/5365\u001b[0m \u001b[32m━━━━━━━━━━━━━━━━━━━━\u001b[0m\u001b[37m\u001b[0m \u001b[1m206s\u001b[0m 28ms/step - accuracy: 0.9424 - loss: 0.1547 - val_accuracy: 0.9528 - val_loss: 0.1119\n",
            "Epoch 14/50\n",
            "\u001b[1m5365/5365\u001b[0m \u001b[32m━━━━━━━━━━━━━━━━━━━━\u001b[0m\u001b[37m\u001b[0m \u001b[1m150s\u001b[0m 28ms/step - accuracy: 0.9428 - loss: 0.1537 - val_accuracy: 0.9633 - val_loss: 0.0970\n",
            "Epoch 15/50\n",
            "\u001b[1m5365/5365\u001b[0m \u001b[32m━━━━━━━━━━━━━━━━━━━━\u001b[0m\u001b[37m\u001b[0m \u001b[1m202s\u001b[0m 28ms/step - accuracy: 0.9417 - loss: 0.1564 - val_accuracy: 0.9700 - val_loss: 0.0912\n",
            "Epoch 16/50\n",
            "\u001b[1m5365/5365\u001b[0m \u001b[32m━━━━━━━━━━━━━━━━━━━━\u001b[0m\u001b[37m\u001b[0m \u001b[1m210s\u001b[0m 29ms/step - accuracy: 0.9437 - loss: 0.1496 - val_accuracy: 0.9756 - val_loss: 0.0748\n",
            "Epoch 17/50\n",
            "\u001b[1m5365/5365\u001b[0m \u001b[32m━━━━━━━━━━━━━━━━━━━━\u001b[0m\u001b[37m\u001b[0m \u001b[1m156s\u001b[0m 29ms/step - accuracy: 0.9435 - loss: 0.1499 - val_accuracy: 0.9572 - val_loss: 0.1034\n",
            "Epoch 18/50\n",
            "\u001b[1m5365/5365\u001b[0m \u001b[32m━━━━━━━━━━━━━━━━━━━━\u001b[0m\u001b[37m\u001b[0m \u001b[1m203s\u001b[0m 29ms/step - accuracy: 0.9428 - loss: 0.1516 - val_accuracy: 0.9581 - val_loss: 0.1009\n",
            "Epoch 19/50\n",
            "\u001b[1m5365/5365\u001b[0m \u001b[32m━━━━━━━━━━━━━━━━━━━━\u001b[0m\u001b[37m\u001b[0m \u001b[1m204s\u001b[0m 29ms/step - accuracy: 0.9448 - loss: 0.1492 - val_accuracy: 0.9746 - val_loss: 0.0872\n",
            "Epoch 20/50\n",
            "\u001b[1m5365/5365\u001b[0m \u001b[32m━━━━━━━━━━━━━━━━━━━━\u001b[0m\u001b[37m\u001b[0m \u001b[1m209s\u001b[0m 30ms/step - accuracy: 0.9434 - loss: 0.1503 - val_accuracy: 0.9567 - val_loss: 0.1153\n",
            "Epoch 21/50\n",
            "\u001b[1m5365/5365\u001b[0m \u001b[32m━━━━━━━━━━━━━━━━━━━━\u001b[0m\u001b[37m\u001b[0m \u001b[1m204s\u001b[0m 30ms/step - accuracy: 0.9443 - loss: 0.1484 - val_accuracy: 0.9766 - val_loss: 0.0848\n",
            "Epoch 22/50\n",
            "\u001b[1m5365/5365\u001b[0m \u001b[32m━━━━━━━━━━━━━━━━━━━━\u001b[0m\u001b[37m\u001b[0m \u001b[1m200s\u001b[0m 30ms/step - accuracy: 0.9447 - loss: 0.1478 - val_accuracy: 0.9671 - val_loss: 0.0925\n",
            "Epoch 23/50\n",
            "\u001b[1m5365/5365\u001b[0m \u001b[32m━━━━━━━━━━━━━━━━━━━━\u001b[0m\u001b[37m\u001b[0m \u001b[1m201s\u001b[0m 29ms/step - accuracy: 0.9450 - loss: 0.1487 - val_accuracy: 0.9732 - val_loss: 0.0829\n",
            "Epoch 24/50\n",
            "\u001b[1m5365/5365\u001b[0m \u001b[32m━━━━━━━━━━━━━━━━━━━━\u001b[0m\u001b[37m\u001b[0m \u001b[1m200s\u001b[0m 29ms/step - accuracy: 0.9457 - loss: 0.1453 - val_accuracy: 0.9577 - val_loss: 0.1133\n",
            "Epoch 25/50\n",
            "\u001b[1m5365/5365\u001b[0m \u001b[32m━━━━━━━━━━━━━━━━━━━━\u001b[0m\u001b[37m\u001b[0m \u001b[1m207s\u001b[0m 29ms/step - accuracy: 0.9466 - loss: 0.1437 - val_accuracy: 0.9652 - val_loss: 0.0961\n",
            "Epoch 26/50\n",
            "\u001b[1m5365/5365\u001b[0m \u001b[32m━━━━━━━━━━━━━━━━━━━━\u001b[0m\u001b[37m\u001b[0m \u001b[1m215s\u001b[0m 31ms/step - accuracy: 0.9479 - loss: 0.1411 - val_accuracy: 0.9661 - val_loss: 0.0837\n",
            "Epoch 27/50\n",
            "\u001b[1m5365/5365\u001b[0m \u001b[32m━━━━━━━━━━━━━━━━━━━━\u001b[0m\u001b[37m\u001b[0m \u001b[1m263s\u001b[0m 42ms/step - accuracy: 0.9478 - loss: 0.1421 - val_accuracy: 0.9778 - val_loss: 0.0895\n",
            "Epoch 28/50\n",
            "\u001b[1m5365/5365\u001b[0m \u001b[32m━━━━━━━━━━━━━━━━━━━━\u001b[0m\u001b[37m\u001b[0m \u001b[1m200s\u001b[0m 31ms/step - accuracy: 0.9487 - loss: 0.1394 - val_accuracy: 0.9696 - val_loss: 0.0876\n",
            "Epoch 29/50\n",
            "\u001b[1m5365/5365\u001b[0m \u001b[32m━━━━━━━━━━━━━━━━━━━━\u001b[0m\u001b[37m\u001b[0m \u001b[1m201s\u001b[0m 30ms/step - accuracy: 0.9484 - loss: 0.1394 - val_accuracy: 0.9794 - val_loss: 0.0735\n",
            "Epoch 30/50\n",
            "\u001b[1m5365/5365\u001b[0m \u001b[32m━━━━━━━━━━━━━━━━━━━━\u001b[0m\u001b[37m\u001b[0m \u001b[1m217s\u001b[0m 33ms/step - accuracy: 0.9487 - loss: 0.1410 - val_accuracy: 0.9650 - val_loss: 0.0887\n",
            "Epoch 31/50\n",
            "\u001b[1m5365/5365\u001b[0m \u001b[32m━━━━━━━━━━━━━━━━━━━━\u001b[0m\u001b[37m\u001b[0m \u001b[1m222s\u001b[0m 36ms/step - accuracy: 0.9485 - loss: 0.1390 - val_accuracy: 0.9540 - val_loss: 0.1329\n",
            "Epoch 32/50\n",
            "\u001b[1m5365/5365\u001b[0m \u001b[32m━━━━━━━━━━━━━━━━━━━━\u001b[0m\u001b[37m\u001b[0m \u001b[1m214s\u001b[0m 38ms/step - accuracy: 0.9491 - loss: 0.1377 - val_accuracy: 0.9647 - val_loss: 0.0879\n",
            "Epoch 33/50\n",
            "\u001b[1m5365/5365\u001b[0m \u001b[32m━━━━━━━━━━━━━━━━━━━━\u001b[0m\u001b[37m\u001b[0m \u001b[1m182s\u001b[0m 34ms/step - accuracy: 0.9505 - loss: 0.1361 - val_accuracy: 0.9656 - val_loss: 0.0826\n",
            "Epoch 34/50\n",
            "\u001b[1m5362/5365\u001b[0m \u001b[32m━━━━━━━━━━━━━━━━━━━\u001b[0m\u001b[37m━\u001b[0m \u001b[1m0s\u001b[0m 30ms/step - accuracy: 0.9504 - loss: 0.1330\n",
            "Akurasi sudah mencapai 0.9506, training dihentikan.\n",
            "\u001b[1m5365/5365\u001b[0m \u001b[32m━━━━━━━━━━━━━━━━━━━━\u001b[0m\u001b[37m\u001b[0m \u001b[1m192s\u001b[0m 32ms/step - accuracy: 0.9504 - loss: 0.1330 - val_accuracy: 0.9772 - val_loss: 0.0732\n"
          ]
        }
      ],
      "source": [
        "from tensorflow.keras.callbacks import Callback\n",
        "class StopAtAccuracy(Callback):\n",
        "    def __init__(self, target=0.9):\n",
        "        super(StopAtAccuracy, self).__init__()\n",
        "        self.target = target\n",
        "\n",
        "    def on_epoch_end(self, epoch, logs=None):\n",
        "        accuracy = logs.get('accuracy')  # ganti 'val_accuracy' kalau mau validasi\n",
        "        if accuracy is not None:\n",
        "            if accuracy >= self.target:\n",
        "                print(f\"\\nAkurasi sudah mencapai {accuracy:.4f}, training dihentikan.\")\n",
        "                self.model.stop_training = True\n",
        "\n",
        "# Pakai callback ini saat training:\n",
        "stop_callback = StopAtAccuracy(target=0.95)\n",
        "\n",
        "history_stunting = model_stunting.fit(\n",
        "    X_train_st, y_train_st,\n",
        "    epochs=50,\n",
        "    validation_split=0.2,\n",
        "    callbacks=[stop_callback]\n",
        ")\n"
      ]
    },
    {
      "cell_type": "code",
      "execution_count": 8,
      "metadata": {},
      "outputs": [
        {
          "data": {
            "image/png": "[encoded data removed]",
            "text/plain": [
              "<Figure size 640x480 with 1 Axes>"
            ]
          },
          "metadata": {},
          "output_type": "display_data"
        },
        {
          "data": {
            "image/png": "[encoded data removed]",
            "text/plain": [
              "<Figure size 640x480 with 1 Axes>"
            ]
          },
          "metadata": {},
          "output_type": "display_data"
        }
      ],
      "source": [
        "import matplotlib.pyplot as plt\n",
        "\n",
        "acc = history_stunting.history['accuracy']\n",
        "val_acc = history_stunting.history['val_accuracy']\n",
        "loss = history_stunting.history['loss']\n",
        "val_loss = history_stunting.history['val_loss']\n",
        "\n",
        "epochs = range(len(acc))\n",
        "\n",
        "plt.plot(epochs, acc, 'r')\n",
        "plt.plot(epochs, val_acc, 'b')\n",
        "plt.title('Training and Validation Accuracy')\n",
        "plt.ylabel('accuracy')\n",
        "plt.xlabel('epoch')\n",
        "plt.legend(['train', 'val'], loc='upper left')\n",
        "plt.show()\n",
        "\n",
        "plt.plot(epochs, loss, 'r')\n",
        "plt.plot(epochs, val_loss, 'b')\n",
        "plt.ylabel('loss')\n",
        "plt.xlabel('epoch')\n",
        "plt.legend(['train', 'val'], loc='upper left')\n",
        "plt.title('Training and Validaion Loss')\n",
        "plt.show()"
      ]
    },
    {
      "cell_type": "markdown",
      "metadata": {},
      "source": [
        "### Konversi Model"
      ]
    },
    {
      "cell_type": "code",
      "execution_count": 9,
      "metadata": {},
      "outputs": [
        {
          "name": "stderr",
          "output_type": "stream",
          "text": [
            "WARNING:absl:You are saving your model as an HDF5 file via `model.save()` or `keras.saving.save_model(model)`. This file format is considered legacy. We recommend using instead the native Keras format, e.g. `model.save('my_model.keras')` or `keras.saving.save_model(model, 'my_model.keras')`. \n"
          ]
        }
      ],
      "source": [
        "# menyimpan model h5 version\n",
        "model_stunting.save('Model_Stunting/model_stunting.h5')"
      ]
    },
    {
      "cell_type": "code",
      "execution_count": 10,
      "metadata": {},
      "outputs": [
        {
          "name": "stderr",
          "output_type": "stream",
          "text": [
            "WARNING:absl:Compiled the loaded model, but the compiled metrics have yet to be built. `model.compile_metrics` will be empty until you train or evaluate the model.\n"
          ]
        },
        {
          "name": "stdout",
          "output_type": "stream",
          "text": [
            "INFO:tensorflow:Assets written to: Model_Stunting\\assets\n"
          ]
        },
        {
          "name": "stderr",
          "output_type": "stream",
          "text": [
            "INFO:tensorflow:Assets written to: Model_Stunting\\assets\n"
          ]
        },
        {
          "name": "stdout",
          "output_type": "stream",
          "text": [
            "Saved artifact at 'Model_Stunting'. The following endpoints are available:\n",
            "\n",
            "* Endpoint 'serve'\n",
            "  args_0 (POSITIONAL_ONLY): TensorSpec(shape=(None, 4), dtype=tf.float32, name='input_layer')\n",
            "Output Type:\n",
            "  TensorSpec(shape=(None, 4), dtype=tf.float32, name=None)\n",
            "Captures:\n",
            "  1355753539152: TensorSpec(shape=(), dtype=tf.resource, name=None)\n",
            "  1355753540304: TensorSpec(shape=(), dtype=tf.resource, name=None)\n",
            "  1355753544144: TensorSpec(shape=(), dtype=tf.resource, name=None)\n",
            "  1355753545296: TensorSpec(shape=(), dtype=tf.resource, name=None)\n",
            "  1355753544528: TensorSpec(shape=(), dtype=tf.resource, name=None)\n",
            "  1355753546256: TensorSpec(shape=(), dtype=tf.resource, name=None)\n"
          ]
        }
      ],
      "source": [
        "import tensorflow as tf\n",
        "import tensorflow as tf\n",
        "\n",
        "# Load model dari file .h5\n",
        "model = tf.keras.models.load_model(\"Model_Stunting/model_stunting.h5\")\n",
        "\n",
        "# Compile ulang model jika ingin menghindari warning\n",
        "model.compile(\n",
        "    optimizer='adam',\n",
        "    loss='categorical_crossentropy',\n",
        "    metrics=['accuracy']\n",
        ")\n",
        "\n",
        "# Simpan ke format SavedModel (Keras 3+ cara baru)\n",
        "model.export(\"Model_Stunting\")\n"
      ]
    },
    {
      "cell_type": "code",
      "execution_count": 11,
      "metadata": {},
      "outputs": [
        {
          "name": "stdout",
          "output_type": "stream",
          "text": [
            "Model berhasil dikonversi dan disimpan sebagai 'my_model.tflite'\n"
          ]
        }
      ],
      "source": [
        "import tensorflow as tf\n",
        "\n",
        "# Path ke direktori SavedModel\n",
        "saved_model_dir = \"Model_Stunting\"\n",
        "\n",
        "# Buat converter dari SavedModel\n",
        "converter = tf.lite.TFLiteConverter.from_saved_model(saved_model_dir)\n",
        "\n",
        "# (Opsional) Jika ingin optimasi ukuran\n",
        "# converter.optimizations = [tf.lite.Optimize.DEFAULT]\n",
        "\n",
        "# Konversi model\n",
        "tflite_model = converter.convert()\n",
        "\n",
        "# Simpan model ke file .tflite\n",
        "with open(\"my_model.tflite\", \"wb\") as f:\n",
        "    f.write(tflite_model)\n",
        "\n",
        "print(\"Model berhasil dikonversi dan disimpan sebagai 'my_model.tflite'\")\n"
      ]
    }
  ],
  "metadata": {
    "colab": {
      "provenance": []
    },
    "kernelspec": {
      "display_name": "base",
      "language": "python",
      "name": "python3"
    },
    "language_info": {
      "codemirror_mode": {
        "name": "ipython",
        "version": 3
      },
      "file_extension": ".py",
      "mimetype": "text/x-python",
      "name": "python",
      "nbconvert_exporter": "python",
      "pygments_lexer": "ipython3",
      "version": "3.12.7"
    }
  },
  "nbformat": 4,
  "nbformat_minor": 0
}

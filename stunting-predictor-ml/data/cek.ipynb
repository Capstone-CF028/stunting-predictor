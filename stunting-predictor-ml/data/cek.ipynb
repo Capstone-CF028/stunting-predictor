{
 "cells": [
  {
   "cell_type": "code",
   "execution_count": 3,
   "id": "41785bd8",
   "metadata": {},
   "outputs": [],
   "source": [
    "import pandas as pd\n",
    "df = pd.read_csv(\"data_wasting_smote.csv\")\n"
   ]
  },
  {
   "cell_type": "code",
   "execution_count": 6,
   "id": "dc8ee09c",
   "metadata": {},
   "outputs": [
    {
     "name": "stdout",
     "output_type": "stream",
     "text": [
      "Empty DataFrame\n",
      "Columns: [Jenis Kelamin, Umur (bulan), Tinggi Badan (cm), Berat Badan (kg), Wasting_Berat Normal, Wasting_Risiko Kegemukan, Wasting_Sangat Kurus, Wasting_Kurus]\n",
      "Index: []\n"
     ]
    }
   ],
   "source": [
    "duplikat = df[df.duplicated()]\n",
    "print(duplikat)"
   ]
  },
  {
   "cell_type": "code",
   "execution_count": null,
   "id": "dc524e0a",
   "metadata": {},
   "outputs": [],
   "source": []
  }
 ],
 "metadata": {
  "kernelspec": {
   "display_name": "Python 3",
   "language": "python",
   "name": "python3"
  },
  "language_info": {
   "codemirror_mode": {
    "name": "ipython",
    "version": 3
   },
   "file_extension": ".py",
   "mimetype": "text/x-python",
   "name": "python",
   "nbconvert_exporter": "python",
   "pygments_lexer": "ipython3",
   "version": "3.12.4"
  }
 },
 "nbformat": 4,
 "nbformat_minor": 5
}
